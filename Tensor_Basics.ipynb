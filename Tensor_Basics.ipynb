{
  "nbformat": 4,
  "nbformat_minor": 0,
  "metadata": {
    "colab": {
      "provenance": [],
      "gpuType": "T4"
    },
    "kernelspec": {
      "name": "python3",
      "display_name": "Python 3"
    },
    "language_info": {
      "name": "python"
    },
    "accelerator": "GPU"
  },
  "cells": [
    {
      "cell_type": "code",
      "execution_count": 78,
      "metadata": {
        "id": "9PHuomhPCjz2"
      },
      "outputs": [],
      "source": [
        "import torch\n",
        "import numpy as np\n",
        "import pandas as pd"
      ]
    },
    {
      "cell_type": "code",
      "source": [
        "scalar = torch.tensor([15])\n",
        "type(scalar.item())"
      ],
      "metadata": {
        "id": "4tLQ9GS7D44i",
        "colab": {
          "base_uri": "https://localhost:8080/"
        },
        "outputId": "2d3fab6a-5df0-452f-8602-c8cd039c0c2e"
      },
      "execution_count": 79,
      "outputs": [
        {
          "output_type": "execute_result",
          "data": {
            "text/plain": [
              "int"
            ]
          },
          "metadata": {},
          "execution_count": 79
        }
      ]
    },
    {
      "cell_type": "code",
      "source": [
        "scalar.ndim"
      ],
      "metadata": {
        "colab": {
          "base_uri": "https://localhost:8080/"
        },
        "id": "_2h0PIbwlbqP",
        "outputId": "1bc181da-38b0-40a0-daa5-6c4447e238bc"
      },
      "execution_count": 80,
      "outputs": [
        {
          "output_type": "execute_result",
          "data": {
            "text/plain": [
              "1"
            ]
          },
          "metadata": {},
          "execution_count": 80
        }
      ]
    },
    {
      "cell_type": "code",
      "source": [
        "vector = torch.tensor([1,2,3,4])"
      ],
      "metadata": {
        "id": "m-gzxR-ynjBJ"
      },
      "execution_count": 81,
      "outputs": []
    },
    {
      "cell_type": "code",
      "source": [
        "vector.ndim"
      ],
      "metadata": {
        "colab": {
          "base_uri": "https://localhost:8080/"
        },
        "id": "LSXzSsoKoHWE",
        "outputId": "75bd6142-3518-433e-bfc6-e6b91a18f46b"
      },
      "execution_count": 82,
      "outputs": [
        {
          "output_type": "execute_result",
          "data": {
            "text/plain": [
              "1"
            ]
          },
          "metadata": {},
          "execution_count": 82
        }
      ]
    },
    {
      "cell_type": "code",
      "source": [
        "vector.shape"
      ],
      "metadata": {
        "colab": {
          "base_uri": "https://localhost:8080/"
        },
        "id": "0qxyE-whoIZT",
        "outputId": "2d4aa7cc-65df-405e-ad84-dc835711141d"
      },
      "execution_count": 83,
      "outputs": [
        {
          "output_type": "execute_result",
          "data": {
            "text/plain": [
              "torch.Size([4])"
            ]
          },
          "metadata": {},
          "execution_count": 83
        }
      ]
    },
    {
      "cell_type": "code",
      "source": [
        "matrix = torch.tensor([[1,2,3],\n",
        "                       [4,5,6]])"
      ],
      "metadata": {
        "id": "Jl97BjqgoKZx"
      },
      "execution_count": 84,
      "outputs": []
    },
    {
      "cell_type": "code",
      "source": [
        "matrix.ndim"
      ],
      "metadata": {
        "colab": {
          "base_uri": "https://localhost:8080/"
        },
        "id": "8wpEjqcVoQGX",
        "outputId": "07ae72bb-9c2a-451a-ce79-d45d7d8dd0c2"
      },
      "execution_count": 85,
      "outputs": [
        {
          "output_type": "execute_result",
          "data": {
            "text/plain": [
              "2"
            ]
          },
          "metadata": {},
          "execution_count": 85
        }
      ]
    },
    {
      "cell_type": "code",
      "source": [
        "matrix.shape"
      ],
      "metadata": {
        "colab": {
          "base_uri": "https://localhost:8080/"
        },
        "id": "TUJjybizoR-l",
        "outputId": "0842e3d6-cca2-4234-e4f0-7050b100802f"
      },
      "execution_count": 86,
      "outputs": [
        {
          "output_type": "execute_result",
          "data": {
            "text/plain": [
              "torch.Size([2, 3])"
            ]
          },
          "metadata": {},
          "execution_count": 86
        }
      ]
    },
    {
      "cell_type": "code",
      "source": [
        "tensor = torch.tensor([[[1,2,3,4],\n",
        "                        [5,6,7,8]]])"
      ],
      "metadata": {
        "id": "fHjgacNpoT_H"
      },
      "execution_count": 87,
      "outputs": []
    },
    {
      "cell_type": "code",
      "source": [
        "tensor.ndim"
      ],
      "metadata": {
        "colab": {
          "base_uri": "https://localhost:8080/"
        },
        "id": "kg0-13xYojp0",
        "outputId": "a0840987-a307-4b95-d47d-aa4bbb710eea"
      },
      "execution_count": 88,
      "outputs": [
        {
          "output_type": "execute_result",
          "data": {
            "text/plain": [
              "3"
            ]
          },
          "metadata": {},
          "execution_count": 88
        }
      ]
    },
    {
      "cell_type": "code",
      "source": [
        "tensor.shape"
      ],
      "metadata": {
        "colab": {
          "base_uri": "https://localhost:8080/"
        },
        "id": "tomLoTZ5olSV",
        "outputId": "d36efe98-d30e-49b2-8806-de16bced2f2a"
      },
      "execution_count": 89,
      "outputs": [
        {
          "output_type": "execute_result",
          "data": {
            "text/plain": [
              "torch.Size([1, 2, 4])"
            ]
          },
          "metadata": {},
          "execution_count": 89
        }
      ]
    },
    {
      "cell_type": "code",
      "source": [
        "tensor4d = torch.tensor([[[1,2,3],\n",
        "                          [4,5,6],\n",
        "                          [7,8,9],\n",
        "                          [10,11,12]],\n",
        "                         [[1,2,3],\n",
        "                          [4,5,6],\n",
        "                          [7,8,9],\n",
        "                          [10,11,12]],\n",
        "                         [[1,2,3],\n",
        "                          [3,4,5],\n",
        "                          [4,5,6],\n",
        "                          [5,6,7]]])"
      ],
      "metadata": {
        "id": "yCHqjBuNomjX"
      },
      "execution_count": 90,
      "outputs": []
    },
    {
      "cell_type": "code",
      "source": [
        "tensor4d.ndim"
      ],
      "metadata": {
        "colab": {
          "base_uri": "https://localhost:8080/"
        },
        "id": "dZpaytfepZS0",
        "outputId": "6b841621-ed3d-4b2d-c981-ed24e569f369"
      },
      "execution_count": 91,
      "outputs": [
        {
          "output_type": "execute_result",
          "data": {
            "text/plain": [
              "3"
            ]
          },
          "metadata": {},
          "execution_count": 91
        }
      ]
    },
    {
      "cell_type": "code",
      "source": [
        "tensor4d.shape"
      ],
      "metadata": {
        "colab": {
          "base_uri": "https://localhost:8080/"
        },
        "id": "IBLHD828p_sl",
        "outputId": "9394e97f-374b-4ba4-a2c8-8db6e5f5c026"
      },
      "execution_count": 92,
      "outputs": [
        {
          "output_type": "execute_result",
          "data": {
            "text/plain": [
              "torch.Size([3, 4, 3])"
            ]
          },
          "metadata": {},
          "execution_count": 92
        }
      ]
    },
    {
      "cell_type": "code",
      "source": [
        "x = torch.tensor([[[[1,2,3,4]],[[5,6,7,8]]],\n",
        "                  [[[1,2,3,4]],[[1,2,3,4]]],\n",
        "                  [[[1,2,3,4]],\n",
        "                   [[1,2,3,4]]]])"
      ],
      "metadata": {
        "id": "7Spk5A-5qBsp"
      },
      "execution_count": 93,
      "outputs": []
    },
    {
      "cell_type": "code",
      "source": [
        "x.ndim"
      ],
      "metadata": {
        "colab": {
          "base_uri": "https://localhost:8080/"
        },
        "id": "30gMmjSCrCzO",
        "outputId": "bda35f62-8d30-41a8-e334-523b40f6275b"
      },
      "execution_count": 94,
      "outputs": [
        {
          "output_type": "execute_result",
          "data": {
            "text/plain": [
              "4"
            ]
          },
          "metadata": {},
          "execution_count": 94
        }
      ]
    },
    {
      "cell_type": "code",
      "source": [
        "x.shape"
      ],
      "metadata": {
        "colab": {
          "base_uri": "https://localhost:8080/"
        },
        "id": "AUwYc-1XrDtg",
        "outputId": "1f874a3a-597c-46f5-e12a-a922a715d826"
      },
      "execution_count": 95,
      "outputs": [
        {
          "output_type": "execute_result",
          "data": {
            "text/plain": [
              "torch.Size([3, 2, 1, 4])"
            ]
          },
          "metadata": {},
          "execution_count": 95
        }
      ]
    },
    {
      "cell_type": "markdown",
      "source": [
        "`Random Tensors`"
      ],
      "metadata": {
        "id": "TBFjyU6YrEOQ"
      }
    },
    {
      "cell_type": "code",
      "source": [
        "random_tensor = torch.rand((3,4))"
      ],
      "metadata": {
        "id": "apXsje1Wsznn"
      },
      "execution_count": 96,
      "outputs": []
    },
    {
      "cell_type": "code",
      "source": [
        "random_tensor"
      ],
      "metadata": {
        "colab": {
          "base_uri": "https://localhost:8080/"
        },
        "id": "DyaZRwlFs5lz",
        "outputId": "2c6db062-4eb6-47cd-fb05-bf46ab4e5b60"
      },
      "execution_count": 97,
      "outputs": [
        {
          "output_type": "execute_result",
          "data": {
            "text/plain": [
              "tensor([[0.7041, 0.5573, 0.6959, 0.9849],\n",
              "        [0.2924, 0.4823, 0.6150, 0.4967],\n",
              "        [0.4521, 0.0575, 0.0687, 0.0501]])"
            ]
          },
          "metadata": {},
          "execution_count": 97
        }
      ]
    },
    {
      "cell_type": "code",
      "source": [
        "example_image = torch.rand((224,224,3))"
      ],
      "metadata": {
        "id": "Y5IT4_q0s6wE"
      },
      "execution_count": 98,
      "outputs": []
    },
    {
      "cell_type": "code",
      "source": [
        "example_image"
      ],
      "metadata": {
        "colab": {
          "base_uri": "https://localhost:8080/"
        },
        "id": "OJxAnYa-uBZb",
        "outputId": "ab7ce215-7d9e-48b0-ea6b-0cfa350d1695"
      },
      "execution_count": 99,
      "outputs": [
        {
          "output_type": "execute_result",
          "data": {
            "text/plain": [
              "tensor([[[0.0108, 0.0343, 0.1212],\n",
              "         [0.0490, 0.0310, 0.7192],\n",
              "         [0.8067, 0.8379, 0.7694],\n",
              "         ...,\n",
              "         [0.6748, 0.8060, 0.4750],\n",
              "         [0.0800, 0.0324, 0.7166],\n",
              "         [0.9909, 0.1717, 0.2111]],\n",
              "\n",
              "        [[0.6824, 0.7232, 0.5315],\n",
              "         [0.3566, 0.8587, 0.5210],\n",
              "         [0.7411, 0.7348, 0.7846],\n",
              "         ...,\n",
              "         [0.6347, 0.2333, 0.4229],\n",
              "         [0.8224, 0.1978, 0.7320],\n",
              "         [0.3527, 0.2636, 0.5240]],\n",
              "\n",
              "        [[0.0839, 0.9054, 0.0632],\n",
              "         [0.4952, 0.2441, 0.4634],\n",
              "         [0.0765, 0.1611, 0.2216],\n",
              "         ...,\n",
              "         [0.3528, 0.6076, 0.7695],\n",
              "         [0.4007, 0.9217, 0.2825],\n",
              "         [0.6284, 0.1649, 0.6897]],\n",
              "\n",
              "        ...,\n",
              "\n",
              "        [[0.5480, 0.0853, 0.8401],\n",
              "         [0.8561, 0.2798, 0.9670],\n",
              "         [0.8160, 0.0725, 0.0900],\n",
              "         ...,\n",
              "         [0.3216, 0.3374, 0.4751],\n",
              "         [0.6108, 0.9917, 0.7020],\n",
              "         [0.3878, 0.2955, 0.8880]],\n",
              "\n",
              "        [[0.2077, 0.8828, 0.7875],\n",
              "         [0.6398, 0.2667, 0.9978],\n",
              "         [0.6400, 0.2185, 0.6626],\n",
              "         ...,\n",
              "         [0.2964, 0.5419, 0.3387],\n",
              "         [0.2777, 0.9453, 0.1829],\n",
              "         [0.7836, 0.7727, 0.7720]],\n",
              "\n",
              "        [[0.7189, 0.9782, 0.4891],\n",
              "         [0.4689, 0.7548, 0.2667],\n",
              "         [0.4153, 0.6321, 0.5137],\n",
              "         ...,\n",
              "         [0.9763, 0.4444, 0.1502],\n",
              "         [0.9655, 0.8898, 0.7708],\n",
              "         [0.3866, 0.0534, 0.7051]]])"
            ]
          },
          "metadata": {},
          "execution_count": 99
        }
      ]
    },
    {
      "cell_type": "code",
      "source": [
        "zeros = torch.zeros_like(random_tensor)\n",
        "zeros"
      ],
      "metadata": {
        "colab": {
          "base_uri": "https://localhost:8080/"
        },
        "id": "BuU4CB3vubTy",
        "outputId": "434b817c-d6cf-4fc6-c303-a2926011e385"
      },
      "execution_count": 100,
      "outputs": [
        {
          "output_type": "execute_result",
          "data": {
            "text/plain": [
              "tensor([[0., 0., 0., 0.],\n",
              "        [0., 0., 0., 0.],\n",
              "        [0., 0., 0., 0.]])"
            ]
          },
          "metadata": {},
          "execution_count": 100
        }
      ]
    },
    {
      "cell_type": "code",
      "source": [
        "ones = torch.ones(size=(3,4))\n",
        "ones"
      ],
      "metadata": {
        "colab": {
          "base_uri": "https://localhost:8080/"
        },
        "id": "9RV3rZeWQsxj",
        "outputId": "307ee9d6-0df9-432b-8534-127b421d1eae"
      },
      "execution_count": 101,
      "outputs": [
        {
          "output_type": "execute_result",
          "data": {
            "text/plain": [
              "tensor([[1., 1., 1., 1.],\n",
              "        [1., 1., 1., 1.],\n",
              "        [1., 1., 1., 1.]])"
            ]
          },
          "metadata": {},
          "execution_count": 101
        }
      ]
    },
    {
      "cell_type": "code",
      "source": [
        "torch.__version__"
      ],
      "metadata": {
        "colab": {
          "base_uri": "https://localhost:8080/",
          "height": 35
        },
        "id": "ulRCS2xWQw-Z",
        "outputId": "ea27a2c3-f4c8-46c1-c707-d51fa163e791"
      },
      "execution_count": 102,
      "outputs": [
        {
          "output_type": "execute_result",
          "data": {
            "text/plain": [
              "'2.4.0+cu121'"
            ],
            "application/vnd.google.colaboratory.intrinsic+json": {
              "type": "string"
            }
          },
          "metadata": {},
          "execution_count": 102
        }
      ]
    },
    {
      "cell_type": "code",
      "source": [
        "one_to_ten = torch.arange(start=1,end=11,step=1)\n",
        "one_to_ten"
      ],
      "metadata": {
        "colab": {
          "base_uri": "https://localhost:8080/"
        },
        "id": "HhEusRJIRAUq",
        "outputId": "a69d7964-1f57-45ca-8592-f199f9aa7688"
      },
      "execution_count": 103,
      "outputs": [
        {
          "output_type": "execute_result",
          "data": {
            "text/plain": [
              "tensor([ 1,  2,  3,  4,  5,  6,  7,  8,  9, 10])"
            ]
          },
          "metadata": {},
          "execution_count": 103
        }
      ]
    },
    {
      "cell_type": "code",
      "source": [
        "ten_zeros = torch.zeros_like(one_to_ten)\n",
        "ten_zeros"
      ],
      "metadata": {
        "colab": {
          "base_uri": "https://localhost:8080/"
        },
        "id": "aLvt6-ZERIpX",
        "outputId": "8a29f33a-7b86-4f54-b2a4-d66975a37651"
      },
      "execution_count": 104,
      "outputs": [
        {
          "output_type": "execute_result",
          "data": {
            "text/plain": [
              "tensor([0, 0, 0, 0, 0, 0, 0, 0, 0, 0])"
            ]
          },
          "metadata": {},
          "execution_count": 104
        }
      ]
    },
    {
      "cell_type": "code",
      "source": [
        "float_16tensor = torch.tensor([3.0,6.0,9.0],dtype=torch.float16)\n",
        "float_16tensor"
      ],
      "metadata": {
        "colab": {
          "base_uri": "https://localhost:8080/"
        },
        "id": "T19OoAI0XpVF",
        "outputId": "9e7f2e39-332d-41f3-ba8e-749198013b27"
      },
      "execution_count": 105,
      "outputs": [
        {
          "output_type": "execute_result",
          "data": {
            "text/plain": [
              "tensor([3., 6., 9.], dtype=torch.float16)"
            ]
          },
          "metadata": {},
          "execution_count": 105
        }
      ]
    },
    {
      "cell_type": "code",
      "source": [
        "float_64tensor = torch.tensor([3.0,6.0,9.0],dtype=torch.float64)\n",
        "float_64tensor"
      ],
      "metadata": {
        "colab": {
          "base_uri": "https://localhost:8080/"
        },
        "id": "J0q8OPDs59jW",
        "outputId": "b0e1c6a4-f414-42f2-83f4-195f1ae8da51"
      },
      "execution_count": 106,
      "outputs": [
        {
          "output_type": "execute_result",
          "data": {
            "text/plain": [
              "tensor([3., 6., 9.], dtype=torch.float64)"
            ]
          },
          "metadata": {},
          "execution_count": 106
        }
      ]
    },
    {
      "cell_type": "code",
      "source": [
        "float_16tensor * float_64tensor"
      ],
      "metadata": {
        "colab": {
          "base_uri": "https://localhost:8080/"
        },
        "id": "AKdiVOLR6NBa",
        "outputId": "af86ca27-2bee-46cb-a9da-80ccecb70bcf"
      },
      "execution_count": 107,
      "outputs": [
        {
          "output_type": "execute_result",
          "data": {
            "text/plain": [
              "tensor([ 9., 36., 81.], dtype=torch.float64)"
            ]
          },
          "metadata": {},
          "execution_count": 107
        }
      ]
    },
    {
      "cell_type": "markdown",
      "source": [
        "## Getting information from tensors\n",
        "\n",
        "1. Tensors not right datatype - to get datatype, use `tensor.dtype`\n",
        "2. Tensors not right shape - to get datatype, use `tensor.shape`\n",
        "3. Tensors not right device - to get datatype, use `tensor.device`"
      ],
      "metadata": {
        "id": "uuSeMHs16O9W"
      }
    },
    {
      "cell_type": "code",
      "source": [
        "some_tensor = torch.rand(3,4,dtype=torch.float64)\n",
        "some_tensor"
      ],
      "metadata": {
        "colab": {
          "base_uri": "https://localhost:8080/"
        },
        "id": "XKlTtdFZ7bu8",
        "outputId": "c42f27f8-0d78-4ea9-a890-2d29ccd0aa89"
      },
      "execution_count": 108,
      "outputs": [
        {
          "output_type": "execute_result",
          "data": {
            "text/plain": [
              "tensor([[0.5451, 0.5199, 0.8643, 0.6025],\n",
              "        [0.7495, 0.4525, 0.5947, 0.7814],\n",
              "        [0.3177, 0.6185, 0.7505, 0.5594]], dtype=torch.float64)"
            ]
          },
          "metadata": {},
          "execution_count": 108
        }
      ]
    },
    {
      "cell_type": "code",
      "source": [
        "some_tensor.device, some_tensor.dtype, some_tensor.shape"
      ],
      "metadata": {
        "colab": {
          "base_uri": "https://localhost:8080/"
        },
        "id": "vF0dNtHZ7gXt",
        "outputId": "bd33b89c-3f7c-4511-b4e8-78b58fdec672"
      },
      "execution_count": 109,
      "outputs": [
        {
          "output_type": "execute_result",
          "data": {
            "text/plain": [
              "(device(type='cpu'), torch.float64, torch.Size([3, 4]))"
            ]
          },
          "metadata": {},
          "execution_count": 109
        }
      ]
    },
    {
      "cell_type": "markdown",
      "source": [
        "## Manipulating tensors"
      ],
      "metadata": {
        "id": "pKG1ArDv8Kbc"
      }
    },
    {
      "cell_type": "code",
      "source": [
        "tensor = torch.tensor([1,2,3])\n",
        "tensor + 10"
      ],
      "metadata": {
        "colab": {
          "base_uri": "https://localhost:8080/"
        },
        "id": "UQJzcUpw-OsZ",
        "outputId": "9b6736f7-4758-441a-89c1-84a244c342da"
      },
      "execution_count": 110,
      "outputs": [
        {
          "output_type": "execute_result",
          "data": {
            "text/plain": [
              "tensor([11, 12, 13])"
            ]
          },
          "metadata": {},
          "execution_count": 110
        }
      ]
    },
    {
      "cell_type": "code",
      "source": [
        "tensor * 10"
      ],
      "metadata": {
        "colab": {
          "base_uri": "https://localhost:8080/"
        },
        "id": "eb3whQE7-UhF",
        "outputId": "0e759ea2-0840-468b-8dda-ffd4516707f8"
      },
      "execution_count": 111,
      "outputs": [
        {
          "output_type": "execute_result",
          "data": {
            "text/plain": [
              "tensor([10, 20, 30])"
            ]
          },
          "metadata": {},
          "execution_count": 111
        }
      ]
    },
    {
      "cell_type": "code",
      "source": [
        "tensor - 10"
      ],
      "metadata": {
        "colab": {
          "base_uri": "https://localhost:8080/"
        },
        "id": "sQYiuYoI-dme",
        "outputId": "657a5b94-07d2-4829-d63b-7cce14c2f95f"
      },
      "execution_count": 112,
      "outputs": [
        {
          "output_type": "execute_result",
          "data": {
            "text/plain": [
              "tensor([-9, -8, -7])"
            ]
          },
          "metadata": {},
          "execution_count": 112
        }
      ]
    },
    {
      "cell_type": "code",
      "source": [
        "# pytorch in-built functions\n",
        "torch.mul(tensor,10)"
      ],
      "metadata": {
        "colab": {
          "base_uri": "https://localhost:8080/"
        },
        "id": "bo6RdVib-uY8",
        "outputId": "88fbd7fa-cb86-4690-b66a-74572b1b1e3a"
      },
      "execution_count": 113,
      "outputs": [
        {
          "output_type": "execute_result",
          "data": {
            "text/plain": [
              "tensor([10, 20, 30])"
            ]
          },
          "metadata": {},
          "execution_count": 113
        }
      ]
    },
    {
      "cell_type": "code",
      "source": [
        "tensor"
      ],
      "metadata": {
        "id": "31OaDZ94AFWG",
        "outputId": "2a5c7f97-b6ba-40e9-8de1-ea0f0ac30c97",
        "colab": {
          "base_uri": "https://localhost:8080/"
        }
      },
      "execution_count": 114,
      "outputs": [
        {
          "output_type": "execute_result",
          "data": {
            "text/plain": [
              "tensor([1, 2, 3])"
            ]
          },
          "metadata": {},
          "execution_count": 114
        }
      ]
    },
    {
      "cell_type": "markdown",
      "source": [
        "## Multiplication"
      ],
      "metadata": {
        "id": "D52OLm1fAGvY"
      }
    },
    {
      "cell_type": "code",
      "source": [
        "## Element wise multiplication\n",
        "print(f\"{tensor} * {tensor} = {tensor * tensor}\")"
      ],
      "metadata": {
        "colab": {
          "base_uri": "https://localhost:8080/"
        },
        "id": "C0anI7W2ihqO",
        "outputId": "a7618185-7920-423f-9f57-107605d9918e"
      },
      "execution_count": 115,
      "outputs": [
        {
          "output_type": "stream",
          "name": "stdout",
          "text": [
            "tensor([1, 2, 3]) * tensor([1, 2, 3]) = tensor([1, 4, 9])\n"
          ]
        }
      ]
    },
    {
      "cell_type": "code",
      "source": [
        "# matrix multiplication\n",
        "torch.matmul(tensor,tensor)"
      ],
      "metadata": {
        "colab": {
          "base_uri": "https://localhost:8080/"
        },
        "id": "9-Xls182io4n",
        "outputId": "e8ddd5ed-bf2c-4263-be77-bb13a1aff8b5"
      },
      "execution_count": 116,
      "outputs": [
        {
          "output_type": "execute_result",
          "data": {
            "text/plain": [
              "tensor(14)"
            ]
          },
          "metadata": {},
          "execution_count": 116
        }
      ]
    },
    {
      "cell_type": "code",
      "source": [
        "tensor_A = torch.tensor([[4,3,5],\n",
        "                         [8,2,9],\n",
        "                         [1,5,2]])\n",
        "tensor_B = torch.tensor([[1,2,3],\n",
        "                         [4,5,6],\n",
        "                         [7,8,9]])"
      ],
      "metadata": {
        "id": "oVU3te4UjhY6"
      },
      "execution_count": 117,
      "outputs": []
    },
    {
      "cell_type": "code",
      "source": [
        "torch.matmul(tensor_A,tensor_B.T)"
      ],
      "metadata": {
        "colab": {
          "base_uri": "https://localhost:8080/"
        },
        "id": "dyPtXvNZnUCb",
        "outputId": "42436867-cd85-4a44-927e-91e0eed7827e"
      },
      "execution_count": 118,
      "outputs": [
        {
          "output_type": "execute_result",
          "data": {
            "text/plain": [
              "tensor([[ 25,  61,  97],\n",
              "        [ 39,  96, 153],\n",
              "        [ 17,  41,  65]])"
            ]
          },
          "metadata": {},
          "execution_count": 118
        }
      ]
    },
    {
      "cell_type": "markdown",
      "source": [
        "## Tensor Aggregation"
      ],
      "metadata": {
        "id": "aoPAtHlkne1O"
      }
    },
    {
      "cell_type": "code",
      "source": [
        "x = torch.arange(1,100,10)\n",
        "x"
      ],
      "metadata": {
        "colab": {
          "base_uri": "https://localhost:8080/"
        },
        "id": "VihD90LFoRLn",
        "outputId": "6f56136c-7b07-473e-f57a-9efd4861fe4f"
      },
      "execution_count": 119,
      "outputs": [
        {
          "output_type": "execute_result",
          "data": {
            "text/plain": [
              "tensor([ 1, 11, 21, 31, 41, 51, 61, 71, 81, 91])"
            ]
          },
          "metadata": {},
          "execution_count": 119
        }
      ]
    },
    {
      "cell_type": "code",
      "source": [
        "torch.min(x), x.min()"
      ],
      "metadata": {
        "colab": {
          "base_uri": "https://localhost:8080/"
        },
        "id": "npr1MfmOoZ2r",
        "outputId": "279f94e2-5631-4dd3-8a33-8a64db94c1b7"
      },
      "execution_count": 120,
      "outputs": [
        {
          "output_type": "execute_result",
          "data": {
            "text/plain": [
              "(tensor(1), tensor(1))"
            ]
          },
          "metadata": {},
          "execution_count": 120
        }
      ]
    },
    {
      "cell_type": "code",
      "source": [
        "torch.max(x), x.max()"
      ],
      "metadata": {
        "colab": {
          "base_uri": "https://localhost:8080/"
        },
        "id": "7ahWon5zodhA",
        "outputId": "71907bc7-aeea-4ee2-97d6-154a2ef25b78"
      },
      "execution_count": 121,
      "outputs": [
        {
          "output_type": "execute_result",
          "data": {
            "text/plain": [
              "(tensor(91), tensor(91))"
            ]
          },
          "metadata": {},
          "execution_count": 121
        }
      ]
    },
    {
      "cell_type": "code",
      "source": [
        "torch.mean(x.type(torch.float32)), x.type(torch.float32).mean()"
      ],
      "metadata": {
        "colab": {
          "base_uri": "https://localhost:8080/"
        },
        "id": "w0ONV64PofyQ",
        "outputId": "a8c29138-6d4d-4b09-d67d-7664630c0fe9"
      },
      "execution_count": 122,
      "outputs": [
        {
          "output_type": "execute_result",
          "data": {
            "text/plain": [
              "(tensor(46.), tensor(46.))"
            ]
          },
          "metadata": {},
          "execution_count": 122
        }
      ]
    },
    {
      "cell_type": "code",
      "source": [
        "torch.sum(x), x.sum()"
      ],
      "metadata": {
        "colab": {
          "base_uri": "https://localhost:8080/"
        },
        "id": "njZ6IVQLo9ly",
        "outputId": "47b177b5-9644-4094-f1cd-d39d292e7b74"
      },
      "execution_count": 123,
      "outputs": [
        {
          "output_type": "execute_result",
          "data": {
            "text/plain": [
              "(tensor(460), tensor(460))"
            ]
          },
          "metadata": {},
          "execution_count": 123
        }
      ]
    },
    {
      "cell_type": "code",
      "source": [
        "x.argmin(), torch.argmin(x)"
      ],
      "metadata": {
        "colab": {
          "base_uri": "https://localhost:8080/"
        },
        "id": "lbyxcvR3pGmx",
        "outputId": "0b98afdc-3dc8-4ad3-d7cd-a242d6e1e1d2"
      },
      "execution_count": 124,
      "outputs": [
        {
          "output_type": "execute_result",
          "data": {
            "text/plain": [
              "(tensor(0), tensor(0))"
            ]
          },
          "metadata": {},
          "execution_count": 124
        }
      ]
    },
    {
      "cell_type": "code",
      "source": [
        "x.argmax(), torch.argmax(x)"
      ],
      "metadata": {
        "colab": {
          "base_uri": "https://localhost:8080/"
        },
        "id": "J9qIvKVZpjUm",
        "outputId": "03a272e3-b38c-4c60-8820-9b1f744c9892"
      },
      "execution_count": 125,
      "outputs": [
        {
          "output_type": "execute_result",
          "data": {
            "text/plain": [
              "(tensor(9), tensor(9))"
            ]
          },
          "metadata": {},
          "execution_count": 125
        }
      ]
    },
    {
      "cell_type": "markdown",
      "source": [
        "## Reshaping, stacking, viewing, squeeze/unsqueeze, etc"
      ],
      "metadata": {
        "id": "TWEVT-t0plG5"
      }
    },
    {
      "cell_type": "code",
      "source": [
        "# reshaping\n",
        "x = torch.arange(1.,10.)\n",
        "x, x.shape"
      ],
      "metadata": {
        "colab": {
          "base_uri": "https://localhost:8080/"
        },
        "id": "58eMG91nA2D4",
        "outputId": "18a2edd4-b41a-4297-e9eb-b78694116951"
      },
      "execution_count": 126,
      "outputs": [
        {
          "output_type": "execute_result",
          "data": {
            "text/plain": [
              "(tensor([1., 2., 3., 4., 5., 6., 7., 8., 9.]), torch.Size([9]))"
            ]
          },
          "metadata": {},
          "execution_count": 126
        }
      ]
    },
    {
      "cell_type": "code",
      "source": [
        "x_reshaped = x.reshape(9,1)\n",
        "x_reshaped, x_reshaped.shape"
      ],
      "metadata": {
        "colab": {
          "base_uri": "https://localhost:8080/"
        },
        "id": "N9ll2igoBbjA",
        "outputId": "02162220-f2d6-464f-b59b-4a9d72fb916c"
      },
      "execution_count": 127,
      "outputs": [
        {
          "output_type": "execute_result",
          "data": {
            "text/plain": [
              "(tensor([[1.],\n",
              "         [2.],\n",
              "         [3.],\n",
              "         [4.],\n",
              "         [5.],\n",
              "         [6.],\n",
              "         [7.],\n",
              "         [8.],\n",
              "         [9.]]),\n",
              " torch.Size([9, 1]))"
            ]
          },
          "metadata": {},
          "execution_count": 127
        }
      ]
    },
    {
      "cell_type": "code",
      "source": [
        "# changing the view\n",
        "z = x.view(1,9)\n",
        "z, z.shape"
      ],
      "metadata": {
        "colab": {
          "base_uri": "https://localhost:8080/"
        },
        "id": "IYe4olYhBjqr",
        "outputId": "eb03c9ca-06b0-4ef9-8ec8-2b3382f032b6"
      },
      "execution_count": 128,
      "outputs": [
        {
          "output_type": "execute_result",
          "data": {
            "text/plain": [
              "(tensor([[1., 2., 3., 4., 5., 6., 7., 8., 9.]]), torch.Size([1, 9]))"
            ]
          },
          "metadata": {},
          "execution_count": 128
        }
      ]
    },
    {
      "cell_type": "code",
      "source": [
        "# changing z changes x because a view shared the same memory as the original tensor\n",
        "z[0,0] = 5\n",
        "z, x"
      ],
      "metadata": {
        "colab": {
          "base_uri": "https://localhost:8080/"
        },
        "id": "r2JLyx9FCGjd",
        "outputId": "68322d34-59cf-4284-fcac-aa57fd5dbff5"
      },
      "execution_count": 129,
      "outputs": [
        {
          "output_type": "execute_result",
          "data": {
            "text/plain": [
              "(tensor([[5., 2., 3., 4., 5., 6., 7., 8., 9.]]),\n",
              " tensor([5., 2., 3., 4., 5., 6., 7., 8., 9.]))"
            ]
          },
          "metadata": {},
          "execution_count": 129
        }
      ]
    },
    {
      "cell_type": "code",
      "source": [
        "# stacking tensors\n",
        "x_stacked = torch.stack([x,x,x,x],dim=1)\n",
        "x_stacked"
      ],
      "metadata": {
        "colab": {
          "base_uri": "https://localhost:8080/"
        },
        "id": "GGr-EQ2VCbeA",
        "outputId": "075e9564-633b-4440-8677-e070d4f331fa"
      },
      "execution_count": 130,
      "outputs": [
        {
          "output_type": "execute_result",
          "data": {
            "text/plain": [
              "tensor([[5., 5., 5., 5.],\n",
              "        [2., 2., 2., 2.],\n",
              "        [3., 3., 3., 3.],\n",
              "        [4., 4., 4., 4.],\n",
              "        [5., 5., 5., 5.],\n",
              "        [6., 6., 6., 6.],\n",
              "        [7., 7., 7., 7.],\n",
              "        [8., 8., 8., 8.],\n",
              "        [9., 9., 9., 9.]])"
            ]
          },
          "metadata": {},
          "execution_count": 130
        }
      ]
    },
    {
      "cell_type": "code",
      "source": [
        "# squeeze and unsqueeze\n",
        "x_reshaped.squeeze()"
      ],
      "metadata": {
        "colab": {
          "base_uri": "https://localhost:8080/"
        },
        "id": "OfkQ9igzCx9Z",
        "outputId": "3da30a52-30e7-48df-8692-8c7be18492e3"
      },
      "execution_count": 131,
      "outputs": [
        {
          "output_type": "execute_result",
          "data": {
            "text/plain": [
              "tensor([5., 2., 3., 4., 5., 6., 7., 8., 9.])"
            ]
          },
          "metadata": {},
          "execution_count": 131
        }
      ]
    },
    {
      "cell_type": "code",
      "source": [
        "x_reshaped.squeeze().shape"
      ],
      "metadata": {
        "colab": {
          "base_uri": "https://localhost:8080/"
        },
        "id": "UZ5kNCRxDo2X",
        "outputId": "11c91f91-8815-4c90-c942-a8116c9aaa69"
      },
      "execution_count": 132,
      "outputs": [
        {
          "output_type": "execute_result",
          "data": {
            "text/plain": [
              "torch.Size([9])"
            ]
          },
          "metadata": {},
          "execution_count": 132
        }
      ]
    },
    {
      "cell_type": "code",
      "source": [
        "x_reshaped"
      ],
      "metadata": {
        "colab": {
          "base_uri": "https://localhost:8080/"
        },
        "id": "M7Z6uxnuEmL-",
        "outputId": "873d305b-9d33-409e-db03-2b3a5cdd3d0e"
      },
      "execution_count": 133,
      "outputs": [
        {
          "output_type": "execute_result",
          "data": {
            "text/plain": [
              "tensor([[5.],\n",
              "        [2.],\n",
              "        [3.],\n",
              "        [4.],\n",
              "        [5.],\n",
              "        [6.],\n",
              "        [7.],\n",
              "        [8.],\n",
              "        [9.]])"
            ]
          },
          "metadata": {},
          "execution_count": 133
        }
      ]
    },
    {
      "cell_type": "code",
      "source": [
        "# unsqueeze - adds a dimension to the specified dimension\n",
        "x_reshaped.unsqueeze(dim=0)"
      ],
      "metadata": {
        "colab": {
          "base_uri": "https://localhost:8080/"
        },
        "id": "gFkJhDoKDyIM",
        "outputId": "2fc68d3f-5042-4ac6-ee87-199811898dbe"
      },
      "execution_count": 134,
      "outputs": [
        {
          "output_type": "execute_result",
          "data": {
            "text/plain": [
              "tensor([[[5.],\n",
              "         [2.],\n",
              "         [3.],\n",
              "         [4.],\n",
              "         [5.],\n",
              "         [6.],\n",
              "         [7.],\n",
              "         [8.],\n",
              "         [9.]]])"
            ]
          },
          "metadata": {},
          "execution_count": 134
        }
      ]
    },
    {
      "cell_type": "code",
      "source": [
        "# torch.permute() - rearranges the dimensions of a target tensor in a specified order\n",
        "x = torch.randint(1,16,(2,3,5))\n",
        "x"
      ],
      "metadata": {
        "colab": {
          "base_uri": "https://localhost:8080/"
        },
        "id": "55ogkamVEg9u",
        "outputId": "669cde78-ef94-4ea3-affe-8cacbd45ba6e"
      },
      "execution_count": 135,
      "outputs": [
        {
          "output_type": "execute_result",
          "data": {
            "text/plain": [
              "tensor([[[ 8, 11,  6,  4,  1],\n",
              "         [ 8, 11,  5,  3, 13],\n",
              "         [15, 11,  6,  8,  4]],\n",
              "\n",
              "        [[11, 10, 13,  5,  5],\n",
              "         [14,  3, 13, 10, 11],\n",
              "         [ 1,  9, 15,  8,  4]]])"
            ]
          },
          "metadata": {},
          "execution_count": 135
        }
      ]
    },
    {
      "cell_type": "code",
      "source": [
        "torch.permute(x,(2,0,1))"
      ],
      "metadata": {
        "colab": {
          "base_uri": "https://localhost:8080/"
        },
        "id": "i3Xb7C6UFT9e",
        "outputId": "9c1692da-3e46-4227-f653-b3bd671cada3"
      },
      "execution_count": 136,
      "outputs": [
        {
          "output_type": "execute_result",
          "data": {
            "text/plain": [
              "tensor([[[ 8,  8, 15],\n",
              "         [11, 14,  1]],\n",
              "\n",
              "        [[11, 11, 11],\n",
              "         [10,  3,  9]],\n",
              "\n",
              "        [[ 6,  5,  6],\n",
              "         [13, 13, 15]],\n",
              "\n",
              "        [[ 4,  3,  8],\n",
              "         [ 5, 10,  8]],\n",
              "\n",
              "        [[ 1, 13,  4],\n",
              "         [ 5, 11,  4]]])"
            ]
          },
          "metadata": {},
          "execution_count": 136
        }
      ]
    },
    {
      "cell_type": "code",
      "source": [
        "# example\n",
        "x_original = torch.rand(size=(224,224,3))\n",
        "x_permuted = x_original.permute(2,0,1)\n",
        "x_original.shape, x_permuted.shape"
      ],
      "metadata": {
        "colab": {
          "base_uri": "https://localhost:8080/"
        },
        "id": "jFixKmJhFYaf",
        "outputId": "83805a85-81c8-485f-c16d-a83333035d34"
      },
      "execution_count": 137,
      "outputs": [
        {
          "output_type": "execute_result",
          "data": {
            "text/plain": [
              "(torch.Size([224, 224, 3]), torch.Size([3, 224, 224]))"
            ]
          },
          "metadata": {},
          "execution_count": 137
        }
      ]
    },
    {
      "cell_type": "code",
      "source": [
        "x_original[4,6,1] = 0.6969"
      ],
      "metadata": {
        "id": "hN647QksG3kB"
      },
      "execution_count": 138,
      "outputs": []
    },
    {
      "cell_type": "code",
      "source": [
        "x_permuted[1,4,6]"
      ],
      "metadata": {
        "colab": {
          "base_uri": "https://localhost:8080/"
        },
        "id": "HdqKvF6dHUts",
        "outputId": "d4669c72-0864-4a2c-c84b-c0aedd5948e9"
      },
      "execution_count": 139,
      "outputs": [
        {
          "output_type": "execute_result",
          "data": {
            "text/plain": [
              "tensor(0.6969)"
            ]
          },
          "metadata": {},
          "execution_count": 139
        }
      ]
    },
    {
      "cell_type": "markdown",
      "source": [
        "## Indexing"
      ],
      "metadata": {
        "id": "zyEBOY9uHfFr"
      }
    },
    {
      "cell_type": "code",
      "source": [
        "x = torch.arange(1,10).reshape(1,3,3)\n",
        "x, x.shape"
      ],
      "metadata": {
        "colab": {
          "base_uri": "https://localhost:8080/"
        },
        "id": "ydrXGSp2pXf1",
        "outputId": "3a0cf5a5-7f0d-4b88-d0a6-d02ab8fde84b"
      },
      "execution_count": 140,
      "outputs": [
        {
          "output_type": "execute_result",
          "data": {
            "text/plain": [
              "(tensor([[[1, 2, 3],\n",
              "          [4, 5, 6],\n",
              "          [7, 8, 9]]]),\n",
              " torch.Size([1, 3, 3]))"
            ]
          },
          "metadata": {},
          "execution_count": 140
        }
      ]
    },
    {
      "cell_type": "code",
      "source": [
        "x[0,1,2], x[0][1][2]"
      ],
      "metadata": {
        "colab": {
          "base_uri": "https://localhost:8080/"
        },
        "id": "Sopvl9s9paki",
        "outputId": "aed0994f-3d4e-49b1-8fca-0ef28b6a37ac"
      },
      "execution_count": 141,
      "outputs": [
        {
          "output_type": "execute_result",
          "data": {
            "text/plain": [
              "(tensor(6), tensor(6))"
            ]
          },
          "metadata": {},
          "execution_count": 141
        }
      ]
    },
    {
      "cell_type": "code",
      "source": [
        "x[:, :, 1]"
      ],
      "metadata": {
        "colab": {
          "base_uri": "https://localhost:8080/"
        },
        "id": "gzu3UiMNp3p3",
        "outputId": "856fe947-df9f-4f85-ef05-afa183b05be6"
      },
      "execution_count": 142,
      "outputs": [
        {
          "output_type": "execute_result",
          "data": {
            "text/plain": [
              "tensor([[2, 5, 8]])"
            ]
          },
          "metadata": {},
          "execution_count": 142
        }
      ]
    },
    {
      "cell_type": "code",
      "source": [
        "x[:, 1, 1]"
      ],
      "metadata": {
        "colab": {
          "base_uri": "https://localhost:8080/"
        },
        "id": "PBW0gB7DrXF_",
        "outputId": "9269029e-ab2c-4cc7-e4c5-47d788cbcfdd"
      },
      "execution_count": 143,
      "outputs": [
        {
          "output_type": "execute_result",
          "data": {
            "text/plain": [
              "tensor([5])"
            ]
          },
          "metadata": {},
          "execution_count": 143
        }
      ]
    },
    {
      "cell_type": "markdown",
      "source": [
        "## Pytorch and numpy"
      ],
      "metadata": {
        "id": "QGBgmWwZsC2V"
      }
    },
    {
      "cell_type": "code",
      "source": [
        "array = np.arange(1.0,8.0)\n",
        "tensor = torch.from_numpy(array)\n",
        "array, tensor"
      ],
      "metadata": {
        "colab": {
          "base_uri": "https://localhost:8080/"
        },
        "id": "BQ2r9S_ytKIx",
        "outputId": "3360ac94-814b-450f-d3fc-b76e089007e9"
      },
      "execution_count": 144,
      "outputs": [
        {
          "output_type": "execute_result",
          "data": {
            "text/plain": [
              "(array([1., 2., 3., 4., 5., 6., 7.]),\n",
              " tensor([1., 2., 3., 4., 5., 6., 7.], dtype=torch.float64))"
            ]
          },
          "metadata": {},
          "execution_count": 144
        }
      ]
    },
    {
      "cell_type": "code",
      "source": [
        "tensor.type(torch.float32)"
      ],
      "metadata": {
        "colab": {
          "base_uri": "https://localhost:8080/"
        },
        "id": "_7042ApTtQ0Z",
        "outputId": "45ef55d5-c781-4585-f4b2-32c6c197f02d"
      },
      "execution_count": 145,
      "outputs": [
        {
          "output_type": "execute_result",
          "data": {
            "text/plain": [
              "tensor([1., 2., 3., 4., 5., 6., 7.])"
            ]
          },
          "metadata": {},
          "execution_count": 145
        }
      ]
    },
    {
      "cell_type": "code",
      "source": [
        "array = array + 1\n",
        "array, tensor"
      ],
      "metadata": {
        "colab": {
          "base_uri": "https://localhost:8080/"
        },
        "id": "LHGcwgs5try9",
        "outputId": "f1887437-af83-4a23-ba38-88310447f5f5"
      },
      "execution_count": 146,
      "outputs": [
        {
          "output_type": "execute_result",
          "data": {
            "text/plain": [
              "(array([2., 3., 4., 5., 6., 7., 8.]),\n",
              " tensor([1., 2., 3., 4., 5., 6., 7.], dtype=torch.float64))"
            ]
          },
          "metadata": {},
          "execution_count": 146
        }
      ]
    },
    {
      "cell_type": "code",
      "source": [
        "# tensor to numpy\n",
        "tensor = torch.ones(7)\n",
        "numpy_tensor = tensor.numpy()\n",
        "tensor, numpy_tensor"
      ],
      "metadata": {
        "colab": {
          "base_uri": "https://localhost:8080/"
        },
        "id": "cXhxh-jwtvpB",
        "outputId": "2c83107a-2b38-4446-f34c-501e913b1445"
      },
      "execution_count": 147,
      "outputs": [
        {
          "output_type": "execute_result",
          "data": {
            "text/plain": [
              "(tensor([1., 1., 1., 1., 1., 1., 1.]),\n",
              " array([1., 1., 1., 1., 1., 1., 1.], dtype=float32))"
            ]
          },
          "metadata": {},
          "execution_count": 147
        }
      ]
    },
    {
      "cell_type": "markdown",
      "source": [
        "## Reproducibility"
      ],
      "metadata": {
        "id": "pBQEvXfet8tH"
      }
    },
    {
      "cell_type": "code",
      "source": [
        "tensor_A = torch.rand(3,4)\n",
        "tensor_B = torch.rand(3,4)\n",
        "print(tensor_A)\n",
        "print(tensor_B)\n",
        "print(tensor_A == tensor_B)"
      ],
      "metadata": {
        "colab": {
          "base_uri": "https://localhost:8080/"
        },
        "id": "cxezn2G53vfi",
        "outputId": "6e0ad070-4863-47cc-c5c9-3a3e772da312"
      },
      "execution_count": 148,
      "outputs": [
        {
          "output_type": "stream",
          "name": "stdout",
          "text": [
            "tensor([[0.6559, 0.1746, 0.9535, 0.2025],\n",
            "        [0.7919, 0.6144, 0.4007, 0.8906],\n",
            "        [0.2995, 0.6521, 0.3515, 0.6887]])\n",
            "tensor([[0.6345, 0.4314, 0.6334, 0.0131],\n",
            "        [0.4737, 0.6558, 0.6812, 0.2280],\n",
            "        [0.4670, 0.8602, 0.9358, 0.4528]])\n",
            "tensor([[False, False, False, False],\n",
            "        [False, False, False, False],\n",
            "        [False, False, False, False]])\n"
          ]
        }
      ]
    },
    {
      "cell_type": "code",
      "source": [
        "RANDOM_SEED = 10\n",
        "torch.manual_seed(RANDOM_SEED)\n",
        "tensor_C = torch.rand(3,4)\n",
        "\n",
        "torch.manual_seed(RANDOM_SEED)\n",
        "tensor_D = torch.rand(3,4)\n",
        "\n",
        "print(tensor_C)\n",
        "print(tensor_D)\n",
        "print(tensor_C == tensor_D)"
      ],
      "metadata": {
        "colab": {
          "base_uri": "https://localhost:8080/"
        },
        "id": "qPV05QFf4Efu",
        "outputId": "0199133d-d53d-4441-f964-983177643945"
      },
      "execution_count": 149,
      "outputs": [
        {
          "output_type": "stream",
          "name": "stdout",
          "text": [
            "tensor([[0.4581, 0.4829, 0.3125, 0.6150],\n",
            "        [0.2139, 0.4118, 0.6938, 0.9693],\n",
            "        [0.6178, 0.3304, 0.5479, 0.4440]])\n",
            "tensor([[0.4581, 0.4829, 0.3125, 0.6150],\n",
            "        [0.2139, 0.4118, 0.6938, 0.9693],\n",
            "        [0.6178, 0.3304, 0.5479, 0.4440]])\n",
            "tensor([[True, True, True, True],\n",
            "        [True, True, True, True],\n",
            "        [True, True, True, True]])\n"
          ]
        }
      ]
    },
    {
      "cell_type": "markdown",
      "source": [
        "## GPU"
      ],
      "metadata": {
        "id": "FbTJYqWR5Ioz"
      }
    },
    {
      "cell_type": "code",
      "source": [
        "!nvidia-smi"
      ],
      "metadata": {
        "colab": {
          "base_uri": "https://localhost:8080/"
        },
        "id": "xbin-H06FK4v",
        "outputId": "dea2b3b7-0a4c-4af4-c9be-21303c27d891"
      },
      "execution_count": 150,
      "outputs": [
        {
          "output_type": "stream",
          "name": "stdout",
          "text": [
            "Thu Sep 12 17:12:42 2024       \n",
            "+---------------------------------------------------------------------------------------+\n",
            "| NVIDIA-SMI 535.104.05             Driver Version: 535.104.05   CUDA Version: 12.2     |\n",
            "|-----------------------------------------+----------------------+----------------------+\n",
            "| GPU  Name                 Persistence-M | Bus-Id        Disp.A | Volatile Uncorr. ECC |\n",
            "| Fan  Temp   Perf          Pwr:Usage/Cap |         Memory-Usage | GPU-Util  Compute M. |\n",
            "|                                         |                      |               MIG M. |\n",
            "|=========================================+======================+======================|\n",
            "|   0  Tesla T4                       Off | 00000000:00:04.0 Off |                    0 |\n",
            "| N/A   40C    P8               9W /  70W |      3MiB / 15360MiB |      0%      Default |\n",
            "|                                         |                      |                  N/A |\n",
            "+-----------------------------------------+----------------------+----------------------+\n",
            "                                                                                         \n",
            "+---------------------------------------------------------------------------------------+\n",
            "| Processes:                                                                            |\n",
            "|  GPU   GI   CI        PID   Type   Process name                            GPU Memory |\n",
            "|        ID   ID                                                             Usage      |\n",
            "|=======================================================================================|\n",
            "|  No running processes found                                                           |\n",
            "+---------------------------------------------------------------------------------------+\n"
          ]
        }
      ]
    },
    {
      "cell_type": "code",
      "source": [
        "torch.cuda.is_available()"
      ],
      "metadata": {
        "colab": {
          "base_uri": "https://localhost:8080/"
        },
        "id": "nueCsCWBF_Tw",
        "outputId": "427c49b8-7107-45c3-cc54-aaa182ab1742"
      },
      "execution_count": 151,
      "outputs": [
        {
          "output_type": "execute_result",
          "data": {
            "text/plain": [
              "True"
            ]
          },
          "metadata": {},
          "execution_count": 151
        }
      ]
    },
    {
      "cell_type": "code",
      "source": [
        "# device agnostic code\n",
        "device = \"cuda\" if torch.cuda.is_available()  else \"cpu\"\n",
        "device"
      ],
      "metadata": {
        "colab": {
          "base_uri": "https://localhost:8080/",
          "height": 35
        },
        "id": "J9lvXK-2GYQy",
        "outputId": "bbfe0c2d-4129-4fa0-8acf-222a13575d5f"
      },
      "execution_count": 152,
      "outputs": [
        {
          "output_type": "execute_result",
          "data": {
            "text/plain": [
              "'cuda'"
            ],
            "application/vnd.google.colaboratory.intrinsic+json": {
              "type": "string"
            }
          },
          "metadata": {},
          "execution_count": 152
        }
      ]
    },
    {
      "cell_type": "code",
      "source": [
        "torch.cuda.device_count()"
      ],
      "metadata": {
        "colab": {
          "base_uri": "https://localhost:8080/"
        },
        "id": "hCf2N4p3GuM1",
        "outputId": "1b75ec7a-2a96-4b93-e605-387e56a89525"
      },
      "execution_count": 153,
      "outputs": [
        {
          "output_type": "execute_result",
          "data": {
            "text/plain": [
              "1"
            ]
          },
          "metadata": {},
          "execution_count": 153
        }
      ]
    },
    {
      "cell_type": "markdown",
      "source": [
        "## Putting tensors and models on GPU"
      ],
      "metadata": {
        "id": "-Ft_fId9GzMX"
      }
    },
    {
      "cell_type": "code",
      "source": [
        "tensor = torch.tensor([1,2,3])\n",
        "print(tensor, tensor.device)"
      ],
      "metadata": {
        "colab": {
          "base_uri": "https://localhost:8080/"
        },
        "id": "L0Ic1KHtOSzh",
        "outputId": "4b506bf1-4a57-4d55-dec4-2f4df11af911"
      },
      "execution_count": 154,
      "outputs": [
        {
          "output_type": "stream",
          "name": "stdout",
          "text": [
            "tensor([1, 2, 3]) cpu\n"
          ]
        }
      ]
    },
    {
      "cell_type": "code",
      "source": [
        "tensor_on_gpu = tensor.to(device)\n",
        "tensor_on_gpu"
      ],
      "metadata": {
        "colab": {
          "base_uri": "https://localhost:8080/"
        },
        "id": "xmB_mTFHOVPm",
        "outputId": "6e84fe9f-a6c0-4708-c21c-230109b2783d"
      },
      "execution_count": 155,
      "outputs": [
        {
          "output_type": "execute_result",
          "data": {
            "text/plain": [
              "tensor([1, 2, 3], device='cuda:0')"
            ]
          },
          "metadata": {},
          "execution_count": 155
        }
      ]
    },
    {
      "cell_type": "code",
      "source": [
        "# moving tensors back to the cpu\n",
        "tensor_on_gpu.cpu().numpy()"
      ],
      "metadata": {
        "colab": {
          "base_uri": "https://localhost:8080/"
        },
        "id": "WE1rs-qsOc30",
        "outputId": "2846c383-17e2-4ee2-cfc1-2988a26a156d"
      },
      "execution_count": 157,
      "outputs": [
        {
          "output_type": "execute_result",
          "data": {
            "text/plain": [
              "array([1, 2, 3])"
            ]
          },
          "metadata": {},
          "execution_count": 157
        }
      ]
    },
    {
      "cell_type": "code",
      "source": [
        "tensor_on_gpu"
      ],
      "metadata": {
        "colab": {
          "base_uri": "https://localhost:8080/"
        },
        "id": "uNWtmBsCOuJo",
        "outputId": "059477ec-8c95-45a3-fb73-e8d853c2bc16"
      },
      "execution_count": 158,
      "outputs": [
        {
          "output_type": "execute_result",
          "data": {
            "text/plain": [
              "tensor([1, 2, 3], device='cuda:0')"
            ]
          },
          "metadata": {},
          "execution_count": 158
        }
      ]
    },
    {
      "cell_type": "code",
      "source": [],
      "metadata": {
        "id": "3D63OZM2O9ck"
      },
      "execution_count": null,
      "outputs": []
    }
  ]
}