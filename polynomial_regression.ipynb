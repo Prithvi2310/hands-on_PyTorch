{
  "nbformat": 4,
  "nbformat_minor": 0,
  "metadata": {
    "colab": {
      "provenance": [],
      "gpuType": "T4"
    },
    "kernelspec": {
      "name": "python3",
      "display_name": "Python 3"
    },
    "language_info": {
      "name": "python"
    },
    "accelerator": "GPU"
  },
  "cells": [
    {
      "cell_type": "code",
      "source": [
        "import torch\n",
        "from torch import nn\n",
        "import numpy as np\n",
        "import matplotlib.pyplot as plt"
      ],
      "metadata": {
        "id": "VaVjlHvgOFpA"
      },
      "execution_count": 1,
      "outputs": []
    },
    {
      "cell_type": "code",
      "execution_count": 2,
      "metadata": {
        "colab": {
          "base_uri": "https://localhost:8080/",
          "height": 35
        },
        "id": "SrN5tBjONJ8A",
        "outputId": "3acb68b6-ec35-4c55-927e-6395e743f5c6"
      },
      "outputs": [
        {
          "output_type": "execute_result",
          "data": {
            "text/plain": [
              "'cpu'"
            ],
            "application/vnd.google.colaboratory.intrinsic+json": {
              "type": "string"
            }
          },
          "metadata": {},
          "execution_count": 2
        }
      ],
      "source": [
        "# device agnostic code\n",
        "device = \"cuda\" if torch.cuda.is_available() else \"cpu\"\n",
        "device"
      ]
    },
    {
      "cell_type": "markdown",
      "source": [
        "## Data"
      ],
      "metadata": {
        "id": "5CaiLHnjPgIb"
      }
    },
    {
      "cell_type": "code",
      "source": [
        "start = 0\n",
        "stop = 1\n",
        "step = 0.02\n",
        "X = torch.arange(start, stop, step).unsqueeze(dim=1)\n",
        "\n",
        "X_new = torch.cat((X,X**2), dim=1)"
      ],
      "metadata": {
        "id": "11vf8uyNPh11"
      },
      "execution_count": 3,
      "outputs": []
    },
    {
      "cell_type": "code",
      "source": [
        "weight_01 = 1\n",
        "weight_02 = 10.3\n",
        "bias = 2\n",
        "\n",
        "y = weight_01*X_new[:,0] + weight_02*X_new[:,1] + bias\n",
        "y = y.unsqueeze(dim=1)\n",
        "X[:10], y[:10]"
      ],
      "metadata": {
        "colab": {
          "base_uri": "https://localhost:8080/"
        },
        "id": "mmYRUWIuChDE",
        "outputId": "ed6d693b-4d07-42db-cf42-7f36e7047ea5"
      },
      "execution_count": 4,
      "outputs": [
        {
          "output_type": "execute_result",
          "data": {
            "text/plain": [
              "(tensor([[0.0000],\n",
              "         [0.0200],\n",
              "         [0.0400],\n",
              "         [0.0600],\n",
              "         [0.0800],\n",
              "         [0.1000],\n",
              "         [0.1200],\n",
              "         [0.1400],\n",
              "         [0.1600],\n",
              "         [0.1800]]),\n",
              " tensor([[2.0000],\n",
              "         [2.0241],\n",
              "         [2.0565],\n",
              "         [2.0971],\n",
              "         [2.1459],\n",
              "         [2.2030],\n",
              "         [2.2683],\n",
              "         [2.3419],\n",
              "         [2.4237],\n",
              "         [2.5137]]))"
            ]
          },
          "metadata": {},
          "execution_count": 4
        }
      ]
    },
    {
      "cell_type": "code",
      "source": [
        "# split data\n",
        "train_split = int(0.8*len(X))\n",
        "X_train, y_train = X_new[:train_split], y[:train_split]\n",
        "X_test, y_test = X_new[train_split:], y[train_split:]"
      ],
      "metadata": {
        "id": "F2nJkiu6P0Ty"
      },
      "execution_count": 5,
      "outputs": []
    },
    {
      "cell_type": "code",
      "source": [
        "len(X_train), len(y_train), len(X_test), len(y_test)"
      ],
      "metadata": {
        "colab": {
          "base_uri": "https://localhost:8080/"
        },
        "id": "VBej61QRQ2e1",
        "outputId": "c8cbb4a8-1e23-4fcd-b8cd-0a8ce6c99e5a"
      },
      "execution_count": 6,
      "outputs": [
        {
          "output_type": "execute_result",
          "data": {
            "text/plain": [
              "(40, 40, 10, 10)"
            ]
          },
          "metadata": {},
          "execution_count": 6
        }
      ]
    },
    {
      "cell_type": "code",
      "source": [
        "# plotting the data\n",
        "def plot_predictions(train_data=X_train,\n",
        "                     train_labels=y_train,\n",
        "                     test_data=X_test,\n",
        "                     test_labels=y_test,\n",
        "                     predictions=None):\n",
        "  \"\"\"\n",
        "  Plots training data, test data and compares predictions.\n",
        "  \"\"\"\n",
        "  plt.figure(figsize=(10, 7))\n",
        "\n",
        "  # Plot training data in blue\n",
        "  plt.scatter(train_data, train_labels, c=\"b\", s=4, label=\"Training data\")\n",
        "\n",
        "  # Plot test data in green\n",
        "  plt.scatter(test_data, test_labels, c=\"g\", s=4, label=\"Testing data\")\n",
        "\n",
        "  if predictions is not None:\n",
        "    # Plot the predictions in red (predictions were made on the test data)\n",
        "    plt.scatter(test_data, predictions, c=\"r\", s=4, label=\"Predictions\")\n",
        "\n",
        "  # Show the legend\n",
        "  plt.legend(prop={\"size\": 14});"
      ],
      "metadata": {
        "id": "LSgEHQElQ4hB"
      },
      "execution_count": 7,
      "outputs": []
    },
    {
      "cell_type": "code",
      "source": [
        "plot_predictions(X[:40],y_train,X[40:],y_test)"
      ],
      "metadata": {
        "colab": {
          "base_uri": "https://localhost:8080/",
          "height": 464
        },
        "id": "ZZ0rICgfRQTC",
        "outputId": "11fe43f1-4650-469a-af6d-99dce06a93fe"
      },
      "execution_count": 8,
      "outputs": [
        {
          "output_type": "display_data",
          "data": {
            "text/plain": [
              "<Figure size 1000x700 with 1 Axes>"
            ],
            "image/png": "[encoded data removed]"
          },
          "metadata": {}
        }
      ]
    },
    {
      "cell_type": "markdown",
      "source": [
        "## Building a model"
      ],
      "metadata": {
        "id": "14y7JG39RYvR"
      }
    },
    {
      "cell_type": "code",
      "source": [
        "class nonLinearRegression(nn.Module):\n",
        "  def __init__(self):\n",
        "    super().__init__()\n",
        "    self.linear_layer = nn.Linear(in_features=2,\n",
        "                            out_features=1)\n",
        "\n",
        "  def forward(self, x: torch.Tensor) -> torch.Tensor:\n",
        "    return self.linear_layer(x)\n",
        "\n",
        "# set manual seed\n",
        "torch.manual_seed(42)\n",
        "\n",
        "model_1 = nonLinearRegression()\n",
        "model_1, model_1.state_dict()"
      ],
      "metadata": {
        "colab": {
          "base_uri": "https://localhost:8080/"
        },
        "id": "hxkKEzM7R6H_",
        "outputId": "79fc5e2f-19ad-4cb1-aba1-d71a511ca116"
      },
      "execution_count": 9,
      "outputs": [
        {
          "output_type": "execute_result",
          "data": {
            "text/plain": [
              "(nonLinearRegression(\n",
              "   (linear_layer): Linear(in_features=2, out_features=1, bias=True)\n",
              " ),\n",
              " OrderedDict([('linear_layer.weight', tensor([[0.5406, 0.5869]])),\n",
              "              ('linear_layer.bias', tensor([-0.1657]))]))"
            ]
          },
          "metadata": {},
          "execution_count": 9
        }
      ]
    },
    {
      "cell_type": "code",
      "source": [
        "# check model current device\n",
        "next((model_1.parameters())).device"
      ],
      "metadata": {
        "colab": {
          "base_uri": "https://localhost:8080/"
        },
        "id": "fF6ZOef7SGis",
        "outputId": "f582a417-fe5e-48e1-e8b5-c91f6ecab853"
      },
      "execution_count": 10,
      "outputs": [
        {
          "output_type": "execute_result",
          "data": {
            "text/plain": [
              "device(type='cpu')"
            ]
          },
          "metadata": {},
          "execution_count": 10
        }
      ]
    },
    {
      "cell_type": "code",
      "source": [
        "# set the model to use the target device\n",
        "model_1.to(device)\n",
        "next(model_1.parameters()).device"
      ],
      "metadata": {
        "colab": {
          "base_uri": "https://localhost:8080/"
        },
        "id": "hHdK_DH6SXwS",
        "outputId": "54e2e071-5eab-420a-a2a7-b8696b75616a"
      },
      "execution_count": 11,
      "outputs": [
        {
          "output_type": "execute_result",
          "data": {
            "text/plain": [
              "device(type='cpu')"
            ]
          },
          "metadata": {},
          "execution_count": 11
        }
      ]
    },
    {
      "cell_type": "markdown",
      "source": [
        "## Training\n",
        "\n",
        "For training\n",
        "\n",
        "\n",
        "*   Loss function\n",
        "*   Optimizer\n",
        "* Training loop\n",
        "* Testing loop\n",
        "\n"
      ],
      "metadata": {
        "id": "I99Cqp-lTIS1"
      }
    },
    {
      "cell_type": "code",
      "source": [
        "# loss function\n",
        "loss_fn = nn.L1Loss()\n",
        "\n",
        "# optimizer\n",
        "optimizer = torch.optim.SGD(params=model_1.parameters(),\n",
        "                            lr = 0.1)"
      ],
      "metadata": {
        "id": "BzwljKgsTuNE"
      },
      "execution_count": 12,
      "outputs": []
    },
    {
      "cell_type": "code",
      "source": [
        "# training loop\n",
        "torch.manual_seed(42)\n",
        "\n",
        "# put data on the target device\n",
        "X_train = X_train.to(device)\n",
        "y_train = y_train.to(device)\n",
        "X_test = X_test.to(device)\n",
        "y_test = y_test.to(device)\n",
        "\n",
        "epochs = 3000\n",
        "for epoch in range(epochs):\n",
        "  # set the model to training mode.\n",
        "  model_1.train()\n",
        "\n",
        "  # forward pass\n",
        "  y_pred = model_1(X_train)\n",
        "\n",
        "  # calculate the loss\n",
        "  loss = loss_fn(y_pred, y_train)\n",
        "\n",
        "  # optimizer zero grad\n",
        "  optimizer.zero_grad()\n",
        "\n",
        "  # perform backpropagation\n",
        "  loss.backward()\n",
        "\n",
        "  # optimizer step\n",
        "  optimizer.step()\n",
        "\n",
        "  # testing loop\n",
        "  model_1.eval()\n",
        "  with torch.inference_mode():\n",
        "    test_pred = model_1(X_test)\n",
        "    test_loss = loss_fn(test_pred, y_test)\n",
        "\n",
        "  if epoch % 100 == 0:\n",
        "    print(f\"Epoch: {epoch} | Loss: {loss} | Test Loss: {test_loss}\")"
      ],
      "metadata": {
        "colab": {
          "base_uri": "https://localhost:8080/"
        },
        "id": "B5nYP7pAUXE9",
        "outputId": "87996744-7aae-42c6-f807-a556759805c9"
      },
      "execution_count": 13,
      "outputs": [
        {
          "output_type": "stream",
          "name": "stdout",
          "text": [
            "Epoch: 0 | Loss: 4.3398871421813965 | Test Loss: 10.149261474609375\n",
            "Epoch: 100 | Loss: 0.8354897499084473 | Test Loss: 3.958861827850342\n",
            "Epoch: 200 | Loss: 0.36011070013046265 | Test Loss: 2.263002872467041\n",
            "Epoch: 300 | Loss: 0.23845067620277405 | Test Loss: 1.4238828420639038\n",
            "Epoch: 400 | Loss: 0.21506264805793762 | Test Loss: 1.1142406463623047\n",
            "Epoch: 500 | Loss: 0.2039543092250824 | Test Loss: 1.0218545198440552\n",
            "Epoch: 600 | Loss: 0.19426193833351135 | Test Loss: 0.9725450277328491\n",
            "Epoch: 700 | Loss: 0.18458643555641174 | Test Loss: 0.9141350984573364\n",
            "Epoch: 800 | Loss: 0.1748940497636795 | Test Loss: 0.8648258447647095\n",
            "Epoch: 900 | Loss: 0.1652185469865799 | Test Loss: 0.8064152598381042\n",
            "Epoch: 1000 | Loss: 0.15552619099617004 | Test Loss: 0.7571070790290833\n",
            "Epoch: 1100 | Loss: 0.1458776891231537 | Test Loss: 0.701005756855011\n",
            "Epoch: 1200 | Loss: 0.13621696829795837 | Test Loss: 0.6510939598083496\n",
            "Epoch: 1300 | Loss: 0.12655414640903473 | Test Loss: 0.6011823415756226\n",
            "Epoch: 1400 | Loss: 0.11689130961894989 | Test Loss: 0.5512707829475403\n",
            "Epoch: 1500 | Loss: 0.10722838342189789 | Test Loss: 0.5013589859008789\n",
            "Epoch: 1600 | Loss: 0.09756553918123245 | Test Loss: 0.4514468312263489\n",
            "Epoch: 1700 | Loss: 0.08791930973529816 | Test Loss: 0.40469464659690857\n",
            "Epoch: 1800 | Loss: 0.07825614511966705 | Test Loss: 0.36098402738571167\n",
            "Epoch: 1900 | Loss: 0.06860951334238052 | Test Loss: 0.31421956419944763\n",
            "Epoch: 2000 | Loss: 0.05894673988223076 | Test Loss: 0.27362576127052307\n",
            "Epoch: 2100 | Loss: 0.049300070852041245 | Test Loss: 0.22686100006103516\n",
            "Epoch: 2200 | Loss: 0.039637528359889984 | Test Loss: 0.18625859916210175\n",
            "Epoch: 2300 | Loss: 0.030866559594869614 | Test Loss: 0.15365171432495117\n",
            "Epoch: 2400 | Loss: 0.08059905469417572 | Test Loss: 0.1978778839111328\n",
            "Epoch: 2500 | Loss: 0.08059905469417572 | Test Loss: 0.1978778839111328\n",
            "Epoch: 2600 | Loss: 0.08059905469417572 | Test Loss: 0.1978778839111328\n",
            "Epoch: 2700 | Loss: 0.08059905469417572 | Test Loss: 0.1978778839111328\n",
            "Epoch: 2800 | Loss: 0.08059905469417572 | Test Loss: 0.1978778839111328\n",
            "Epoch: 2900 | Loss: 0.08059905469417572 | Test Loss: 0.1978778839111328\n"
          ]
        }
      ]
    },
    {
      "cell_type": "code",
      "source": [
        "model_1.state_dict()"
      ],
      "metadata": {
        "colab": {
          "base_uri": "https://localhost:8080/"
        },
        "id": "l_YAzTYOVSEO",
        "outputId": "80f93330-d691-4c8f-80a7-3e50a36b216a"
      },
      "execution_count": 14,
      "outputs": [
        {
          "output_type": "execute_result",
          "data": {
            "text/plain": [
              "OrderedDict([('linear_layer.weight', tensor([[1.5702, 9.6008]])),\n",
              "             ('linear_layer.bias', tensor([2.0018]))])"
            ]
          },
          "metadata": {},
          "execution_count": 14
        }
      ]
    },
    {
      "cell_type": "markdown",
      "source": [
        "## Making and evaluating predictions"
      ],
      "metadata": {
        "id": "N8bJKie5ZePO"
      }
    },
    {
      "cell_type": "code",
      "source": [
        "# turn model into evaluation mode\n",
        "model_1.eval()\n",
        "\n",
        "# make predictions\n",
        "with torch.inference_mode():\n",
        "  test_pred_new = model_1(X_test)\n",
        "\n",
        "test_pred_new"
      ],
      "metadata": {
        "id": "l3m1PPn_WT4M",
        "colab": {
          "base_uri": "https://localhost:8080/"
        },
        "outputId": "f87597f1-5dfe-4d1b-e1e1-c84c828e438a"
      },
      "execution_count": 15,
      "outputs": [
        {
          "output_type": "execute_result",
          "data": {
            "text/plain": [
              "tensor([[ 9.4025],\n",
              "        [ 9.7450],\n",
              "        [10.0951],\n",
              "        [10.4530],\n",
              "        [10.8185],\n",
              "        [11.1917],\n",
              "        [11.5725],\n",
              "        [11.9611],\n",
              "        [12.3573],\n",
              "        [12.7612]])"
            ]
          },
          "metadata": {},
          "execution_count": 15
        }
      ]
    },
    {
      "cell_type": "code",
      "source": [
        "#np.array(test_pred_new.detach().numpy())"
      ],
      "metadata": {
        "id": "I6DiX2Ayalhx"
      },
      "execution_count": 16,
      "outputs": []
    },
    {
      "cell_type": "code",
      "source": [
        "plot_predictions(X[:40], y_train, X[40:], y_test, test_pred_new)"
      ],
      "metadata": {
        "colab": {
          "base_uri": "https://localhost:8080/",
          "height": 464
        },
        "id": "HHQo8VUlWA4R",
        "outputId": "c860be62-5aed-4063-bc0b-16c0677456b9"
      },
      "execution_count": 17,
      "outputs": [
        {
          "output_type": "display_data",
          "data": {
            "text/plain": [
              "<Figure size 1000x700 with 1 Axes>"
            ],
            "image/png": "[encoded data removed]"
          },
          "metadata": {}
        }
      ]
    },
    {
      "cell_type": "markdown",
      "source": [
        "## Saving and loading a trained model"
      ],
      "metadata": {
        "id": "5MYvbYSZWNQw"
      }
    },
    {
      "cell_type": "code",
      "source": [
        "from pathlib import Path\n",
        "\n",
        "MODEL_PATH = Path(\"models\")\n",
        "MODEL_PATH.mkdir(parents=True, exist_ok=True)\n",
        "\n",
        "MODEL_NAME = \"non_linear_regression_model_1.pth\"\n",
        "MODEL_SAVE_PATH = MODEL_PATH / MODEL_NAME\n",
        "\n",
        "MODEL_SAVE_PATH"
      ],
      "metadata": {
        "colab": {
          "base_uri": "https://localhost:8080/"
        },
        "id": "FKjudfT0bWzY",
        "outputId": "5aa93efb-f83c-4d9f-abbb-5bcfd9a9e914"
      },
      "execution_count": 18,
      "outputs": [
        {
          "output_type": "execute_result",
          "data": {
            "text/plain": [
              "PosixPath('models/non_linear_regression_model_1.pth')"
            ]
          },
          "metadata": {},
          "execution_count": 18
        }
      ]
    },
    {
      "cell_type": "code",
      "source": [
        "# save the model state dict\n",
        "print(f\"Saving model to: {MODEL_SAVE_PATH}\")\n",
        "torch.save(obj=model_1.state_dict(),\n",
        "         f=MODEL_SAVE_PATH)\n"
      ],
      "metadata": {
        "colab": {
          "base_uri": "https://localhost:8080/"
        },
        "id": "zuxy450SbwIG",
        "outputId": "d3eade92-fc6d-4182-a2cb-183f9b0d0a00"
      },
      "execution_count": 19,
      "outputs": [
        {
          "output_type": "stream",
          "name": "stdout",
          "text": [
            "Saving model to: models/non_linear_regression_model_1.pth\n"
          ]
        }
      ]
    },
    {
      "cell_type": "code",
      "source": [
        "# load a model\n",
        "loaded_model = nonLinearRegression()\n",
        "loaded_model.load_state_dict(torch.load(f=MODEL_SAVE_PATH))"
      ],
      "metadata": {
        "colab": {
          "base_uri": "https://localhost:8080/"
        },
        "id": "Nxpr8L9-cCBz",
        "outputId": "18e0f70f-edde-40f5-df19-db840e74067e"
      },
      "execution_count": 20,
      "outputs": [
        {
          "output_type": "stream",
          "name": "stderr",
          "text": [
            "<ipython-input-20-068885f00b91>:3: FutureWarning: You are using `torch.load` with `weights_only=False` (the current default value), which uses the default pickle module implicitly. It is possible to construct malicious pickle data which will execute arbitrary code during unpickling (See https://github.com/pytorch/pytorch/blob/main/SECURITY.md#untrusted-models for more details). In a future release, the default value for `weights_only` will be flipped to `True`. This limits the functions that could be executed during unpickling. Arbitrary objects will no longer be allowed to be loaded via this mode unless they are explicitly allowlisted by the user via `torch.serialization.add_safe_globals`. We recommend you start setting `weights_only=True` for any use case where you don't have full control of the loaded file. Please open an issue on GitHub for any issues related to this experimental feature.\n",
            "  loaded_model.load_state_dict(torch.load(f=MODEL_SAVE_PATH))\n"
          ]
        },
        {
          "output_type": "execute_result",
          "data": {
            "text/plain": [
              "<All keys matched successfully>"
            ]
          },
          "metadata": {},
          "execution_count": 20
        }
      ]
    },
    {
      "cell_type": "code",
      "source": [
        "loaded_model.state_dict()"
      ],
      "metadata": {
        "colab": {
          "base_uri": "https://localhost:8080/"
        },
        "id": "SwmkTv3scRXu",
        "outputId": "e7fc991b-4915-4f74-bf77-bb1d96a063d5"
      },
      "execution_count": 21,
      "outputs": [
        {
          "output_type": "execute_result",
          "data": {
            "text/plain": [
              "OrderedDict([('linear_layer.weight', tensor([[1.5702, 9.6008]])),\n",
              "             ('linear_layer.bias', tensor([2.0018]))])"
            ]
          },
          "metadata": {},
          "execution_count": 21
        }
      ]
    },
    {
      "cell_type": "code",
      "source": [
        "loaded_model.to(device)"
      ],
      "metadata": {
        "colab": {
          "base_uri": "https://localhost:8080/"
        },
        "id": "SfVPQE5-cTyj",
        "outputId": "54e53d76-e38f-4a8d-ecef-3281ec697d6a"
      },
      "execution_count": 22,
      "outputs": [
        {
          "output_type": "execute_result",
          "data": {
            "text/plain": [
              "nonLinearRegression(\n",
              "  (linear_layer): Linear(in_features=2, out_features=1, bias=True)\n",
              ")"
            ]
          },
          "metadata": {},
          "execution_count": 22
        }
      ]
    }
  ]
}